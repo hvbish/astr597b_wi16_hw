{
 "cells": [
  {
   "cell_type": "markdown",
   "metadata": {},
   "source": [
    "# Final Project"
   ]
  },
  {
   "cell_type": "markdown",
   "metadata": {},
   "source": [
    "Due: Mar 20th 2015, 10pm PDT (((**NOTE: THIS IS A HARD DEADLINE; NO EXTENSIONS WILL BE POSSIBLE **)))\n",
    "\n",
    "How to submit: Fork the homeworks git repository and write your homework in an IPython notebook in a directory named final/$NAME, replacing $NAME with your name w/o any spaces (i.e., final/MarioJuric). To submit, issue a pull request."
   ]
  },
  {
   "cell_type": "markdown",
   "metadata": {},
   "source": [
    "## Problem 1\n",
    "\n",
    "In class, you gave a presentation on a large survey project. For this homework, write:\n",
    "\n",
    "* An LSD YAML table schema (.yaml file), and,\n",
    "* the `lsd-import` command line (or any additional code or scripts) for a catalog from the survey you discussed.\n",
    "\n",
    "Note that this problem is *very* similar to [Problem #2 in Homework #1](https://github.com/mjuric/astr597b_wi16_hw/blob/master/hw1/hw1.ipynb).\n",
    "\n",
    "## Notes\n",
    "\n",
    "* You don't need to import the entire catalog -- some of them are quite big! Just demonstrate that your schema works by importing a small subset (e.g., one or a few files from the catalog).\n",
    "* If the project you presented consists of multiple sub-surveys, pick one for which you will write the schema. There's no need to do all of them."
   ]
  },
  {
   "cell_type": "markdown",
   "metadata": {},
   "source": [
    "*Import modules & FITS file, set environment variables:*"
   ]
  },
  {
   "cell_type": "code",
   "execution_count": 30,
   "metadata": {
    "collapsed": true
   },
   "outputs": [],
   "source": [
    "import numpy as np\n",
    "import os\n",
    "import lsd\n",
    "from astropy.table import Table\n",
    "from astropy.io import fits"
   ]
  },
  {
   "cell_type": "code",
   "execution_count": 31,
   "metadata": {
    "collapsed": false
   },
   "outputs": [],
   "source": [
    "os.environ['NWORKERS'] = '2'\n",
    "os.environ['LSD_CACHEDIR'] = os.environ['HOME'] + '/local/tmp/lsd_tmp'\n",
    "os.environ['LSD_DIR'] = os.environ['HOME'] + '/local/tmp/lsd_tmp'\n",
    "os.environ['LSD_DB'] = os.environ['HOME'] + '/lsddb:/astro/apps6/opt/lsddb'\n",
    "os.environ['LSD_HW1_DATADIR'] = '/local/tmp/lsd_tmp/lsd_final_data'"
   ]
  },
  {
   "cell_type": "code",
   "execution_count": 32,
   "metadata": {
    "collapsed": false
   },
   "outputs": [],
   "source": [
    "ukidss_fits = Table.read('ukidss_las.fits') #Subset of objects from the large area survey"
   ]
  },
  {
   "cell_type": "markdown",
   "metadata": {},
   "source": [
    "*Some checks of the FITS file format for the purpose of creating the YAML file:*"
   ]
  },
  {
   "cell_type": "code",
   "execution_count": 33,
   "metadata": {
    "collapsed": false
   },
   "outputs": [
    {
     "name": "stdout",
     "output_type": "stream",
     "text": [
      "<bound method Table.pformat of <Table masked=True length=79>\n",
      "  SOURCEID   CUEVENTID  FRAMESETID  ...   KOBJID     KXI       KETA  \n",
      "                                    ...                              \n",
      "   int64       int32      int64     ...   int64    float32   float32 \n",
      "------------ --------- ------------ ... --------- --------- ---------\n",
      "433835020401     12714 433791740702 ...  40268353       0.0       0.0\n",
      "433835143024     12714 433791740730 ...  33415685       0.0       0.0\n",
      "433835254966     12714 433791740779 ... 181830962       0.0       0.0\n",
      "433835465725     12714 433791740966 ...  40330499       0.0       0.0\n",
      "433835543691     12714 433791740984 ...  34636348 -0.730935   1.18066\n",
      "433835806789     12714 433791741034 ...  37415765 -0.183227  0.611618\n",
      "433833443628     12714 433791739553 ...  38464313       0.0       0.0\n",
      "433833206794     12714 433791739480 ...  35486760       0.0       0.0\n",
      "433831618090     12714 433791738407 ...  34466420       0.0       0.0\n",
      "         ...       ...          ... ...       ...       ...       ...\n",
      "433842803500     15744 433791703654 ... 417400623  -0.40352   1.69982\n",
      "433860338295     17930 433791748573 ... 439950286 -0.754344  -1.35741\n",
      "433850483387     15744 433791749152 ... 444218821       0.0       0.0\n",
      "433850401484     15744 433791749050 ... 439308791       0.0       0.0\n",
      "433850401468     15744 433791749050 ... 439308775       0.0       0.0\n",
      "433840275882     12714 433791745589 ...  24100305 -0.156521  0.217076\n",
      "433841102948     12714 433791746218 ...  19773685  -1.65714 0.0477495\n",
      "433840568437     12714 433791745885 ...  20483593       0.0       0.0\n",
      "433841428526     12714 433791746430 ...  21018835  0.894264  -1.14338\n",
      "433840521219     12714 433791745849 ...  18199727  0.218125 -0.708729>\n"
     ]
    }
   ],
   "source": [
    "print ukidss_fits.pformat"
   ]
  },
  {
   "cell_type": "code",
   "execution_count": 34,
   "metadata": {
    "collapsed": false
   },
   "outputs": [],
   "source": [
    "hdulist =  fits.open('ukidss_las.fits')"
   ]
  },
  {
   "cell_type": "code",
   "execution_count": 42,
   "metadata": {
    "collapsed": false
   },
   "outputs": [
    {
     "name": "stdout",
     "output_type": "stream",
     "text": [
      "Filename: ukidss_las.fits\n",
      "No.    Name         Type      Cards   Dimensions   Format\n",
      "0    PRIMARY     PrimaryHDU       4   ()              \n",
      "1                BinTableHDU    959   79R x 176C   [1K, 1J, 1K, 1D, 1D, 1E, 1E, 1D, 1E, 1E, 1E, 1E, 1E, 1I, 1D, 1D, 1D, 1K, 1D, 1D, 1D, 1D, 1K, 1E, 1E, 1E, 1E, 1E, 1E, 1E, 1E, 1E, 1E, 1E, 1E, 1E, 1I, 1E, 1E, 1E, 1E, 1E, 1E, 1E, 1E, 1E, 1E, 1E, 1E, 1E, 1E, 1E, 1E, 1E, 1E, 1E, 1E, 1E, 1E, 1E, 1E, 1E, 1E, 1J, 1J, 1I, 1E, 1J, 1J, 1K, 1E, 1E, 1E, 1E, 1E, 1E, 1E, 1E, 1E, 1E, 1E, 1E, 1E, 1E, 1E, 1E, 1E, 1E, 1E, 1J, 1J, 1I, 1E, 1J, 1J, 1K, 1E, 1E, 1E, 1E, 1E, 1E, 1E, 1E, 1E, 1E, 1E, 1E, 1E, 1E, 1E, 1E, 1E, 1E, 1E, 1J, 1J, 1I, 1E, 1J, 1J, 1K, 1E, 1E, 1E, 1E, 1E, 1E, 1E, 1E, 1E, 1E, 1E, 1E, 1E, 1E, 1E, 1E, 1E, 1E, 1E, 1J, 1J, 1I, 1E, 1J, 1J, 1K, 1E, 1E, 1E, 1E, 1E, 1E, 1E, 1E, 1E, 1E, 1E, 1E, 1E, 1E, 1E, 1E, 1E, 1E, 1E, 1J, 1J, 1I, 1E, 1J, 1J, 1K, 1E, 1E]   \n"
     ]
    }
   ],
   "source": [
    "hdulist.info()"
   ]
  },
  {
   "cell_type": "code",
   "execution_count": 36,
   "metadata": {
    "collapsed": true
   },
   "outputs": [],
   "source": [
    "cols = hdulist[1].columns"
   ]
  },
  {
   "cell_type": "code",
   "execution_count": 37,
   "metadata": {
    "collapsed": false
   },
   "outputs": [
    {
     "name": "stdout",
     "output_type": "stream",
     "text": [
      "name:\n",
      "    ['SOURCEID', 'CUEVENTID', 'FRAMESETID', 'RA', 'DEC', 'SIGRA', 'SIGDEC', 'EPOCH', 'MURA', 'MUDEC', 'SIGMURA', 'SIGMUDEC', 'CHI2', 'NFRAMES', 'CX', 'CY', 'CZ', 'HTMID', 'L', 'B', 'LAMBDA', 'ETA', 'PRIORSEC', 'YMJ_1PNT', 'YMJ_1PNTERR', 'J_1MHPNT', 'J_1MHPNTERR', 'HMKPNT', 'HMKPNTERR', 'YMJ_1EXT', 'YMJ_1EXTERR', 'J_1MHEXT', 'J_1MHEXTERR', 'HMKEXT', 'HMKEXTERR', 'MERGEDCLASSSTAT', 'MERGEDCLASS', 'PSTAR', 'PGALAXY', 'PNOISE', 'PSATURATED', 'EBV', 'AY', 'AJ', 'AH', 'AK', 'YHALLMAG', 'YHALLMAGERR', 'YPETROMAG', 'YPETROMAGERR', 'YPSFMAG', 'YPSFMAGERR', 'YSERMAG2D', 'YSERMAG2DERR', 'YAPERMAG3', 'YAPERMAG3ERR', 'YAPERMAG4', 'YAPERMAG4ERR', 'YAPERMAG6', 'YAPERMAG6ERR', 'YGAUSIG', 'YELL', 'YPA', 'YERRBITS', 'YDEBLEND', 'YCLASS', 'YCLASSSTAT', 'YPPERRBITS', 'YSEQNUM', 'YOBJID', 'YXI', 'YETA', 'J_1HALLMAG', 'J_1HALLMAGERR', 'J_1PETROMAG', 'J_1PETROMAGERR', 'J_1PSFMAG', 'J_1PSFMAGERR', 'J_1SERMAG2D', 'J_1SERMAG2DERR', 'J_1APERMAG3', 'J_1APERMAG3ERR', 'J_1APERMAG4', 'J_1APERMAG4ERR', 'J_1APERMAG6', 'J_1APERMAG6ERR', 'J_1GAUSIG', 'J_1ELL', 'J_1PA', 'J_1ERRBITS', 'J_1DEBLEND', 'J_1CLASS', 'J_1CLASSSTAT', 'J_1PPERRBITS', 'J_1SEQNUM', 'J_1OBJID', 'J_1XI', 'J_1ETA', 'J_2HALLMAG', 'J_2HALLMAGERR', 'J_2PETROMAG', 'J_2PETROMAGERR', 'J_2PSFMAG', 'J_2PSFMAGERR', 'J_2SERMAG2D', 'J_2SERMAG2DERR', 'J_2APERMAG3', 'J_2APERMAG3ERR', 'J_2APERMAG4', 'J_2APERMAG4ERR', 'J_2APERMAG6', 'J_2APERMAG6ERR', 'J_2GAUSIG', 'J_2ELL', 'J_2PA', 'J_2ERRBITS', 'J_2DEBLEND', 'J_2CLASS', 'J_2CLASSSTAT', 'J_2PPERRBITS', 'J_2SEQNUM', 'J_2OBJID', 'J_2XI', 'J_2ETA', 'HHALLMAG', 'HHALLMAGERR', 'HPETROMAG', 'HPETROMAGERR', 'HPSFMAG', 'HPSFMAGERR', 'HSERMAG2D', 'HSERMAG2DERR', 'HAPERMAG3', 'HAPERMAG3ERR', 'HAPERMAG4', 'HAPERMAG4ERR', 'HAPERMAG6', 'HAPERMAG6ERR', 'HGAUSIG', 'HELL', 'HPA', 'HERRBITS', 'HDEBLEND', 'HCLASS', 'HCLASSSTAT', 'HPPERRBITS', 'HSEQNUM', 'HOBJID', 'HXI', 'HETA', 'KHALLMAG', 'KHALLMAGERR', 'KPETROMAG', 'KPETROMAGERR', 'KPSFMAG', 'KPSFMAGERR', 'KSERMAG2D', 'KSERMAG2DERR', 'KAPERMAG3', 'KAPERMAG3ERR', 'KAPERMAG4', 'KAPERMAG4ERR', 'KAPERMAG6', 'KAPERMAG6ERR', 'KGAUSIG', 'KELL', 'KPA', 'KERRBITS', 'KDEBLEND', 'KCLASS', 'KCLASSSTAT', 'KPPERRBITS', 'KSEQNUM', 'KOBJID', 'KXI', 'KETA']\n",
      "format:\n",
      "    ['1K', '1J', '1K', '1D', '1D', '1E', '1E', '1D', '1E', '1E', '1E', '1E', '1E', '1I', '1D', '1D', '1D', '1K', '1D', '1D', '1D', '1D', '1K', '1E', '1E', '1E', '1E', '1E', '1E', '1E', '1E', '1E', '1E', '1E', '1E', '1E', '1I', '1E', '1E', '1E', '1E', '1E', '1E', '1E', '1E', '1E', '1E', '1E', '1E', '1E', '1E', '1E', '1E', '1E', '1E', '1E', '1E', '1E', '1E', '1E', '1E', '1E', '1E', '1J', '1J', '1I', '1E', '1J', '1J', '1K', '1E', '1E', '1E', '1E', '1E', '1E', '1E', '1E', '1E', '1E', '1E', '1E', '1E', '1E', '1E', '1E', '1E', '1E', '1E', '1J', '1J', '1I', '1E', '1J', '1J', '1K', '1E', '1E', '1E', '1E', '1E', '1E', '1E', '1E', '1E', '1E', '1E', '1E', '1E', '1E', '1E', '1E', '1E', '1E', '1E', '1J', '1J', '1I', '1E', '1J', '1J', '1K', '1E', '1E', '1E', '1E', '1E', '1E', '1E', '1E', '1E', '1E', '1E', '1E', '1E', '1E', '1E', '1E', '1E', '1E', '1E', '1J', '1J', '1I', '1E', '1J', '1J', '1K', '1E', '1E', '1E', '1E', '1E', '1E', '1E', '1E', '1E', '1E', '1E', '1E', '1E', '1E', '1E', '1E', '1E', '1E', '1E', '1J', '1J', '1I', '1E', '1J', '1J', '1K', '1E', '1E']\n",
      "unit:\n",
      "    ['', '', '', 'RADIANS', 'RADIANS', '', '', '', '', '', '', '', '', '', '', '', '', '', '', '', '', '', '', '', '', '', '', '', '', '', '', '', '', '', '', '', '', '', '', '', '', '', '', '', '', '', '', '', '', '', '', '', '', '', '', '', '', '', '', '', '', '', '', '', '', '', '', '', '', '', '', '', '', '', '', '', '', '', '', '', '', '', '', '', '', '', '', '', '', '', '', '', '', '', '', '', '', '', '', '', '', '', '', '', '', '', '', '', '', '', '', '', '', '', '', '', '', '', '', '', '', '', '', '', '', '', '', '', '', '', '', '', '', '', '', '', '', '', '', '', '', '', '', '', '', '', '', '', '', '', '', '', '', '', '', '', '', '', '', '', '', '', '', '', '', '', '', '', '', '', '', '', '', '', '', '']\n",
      "null:\n",
      "    [-99999999, -99999999, -99999999, '', '', '', '', '', '', '', '', '', '', '', '', '', '', -99999999, '', '', '', '', -99999999, '', '', '', '', '', '', '', '', '', '', '', '', '', -9999, '', '', '', '', '', '', '', '', '', '', '', '', '', '', '', '', '', '', '', '', '', '', '', '', '', '', -99999999, -99999999, -9999, '', -99999999, -99999999, -99999999, '', '', '', '', '', '', '', '', '', '', '', '', '', '', '', '', '', '', '', -99999999, -99999999, -9999, '', -99999999, -99999999, -99999999, '', '', '', '', '', '', '', '', '', '', '', '', '', '', '', '', '', '', '', -99999999, -99999999, -9999, '', -99999999, -99999999, -99999999, '', '', '', '', '', '', '', '', '', '', '', '', '', '', '', '', '', '', '', -99999999, -99999999, -9999, '', -99999999, -99999999, -99999999, '', '', '', '', '', '', '', '', '', '', '', '', '', '', '', '', '', '', '', -99999999, -99999999, -9999, '', -99999999, -99999999, -99999999, '', '']\n",
      "bscale:\n",
      "    ['', '', '', '', '', '', '', '', '', '', '', '', '', '', '', '', '', '', '', '', '', '', '', '', '', '', '', '', '', '', '', '', '', '', '', '', '', '', '', '', '', '', '', '', '', '', '', '', '', '', '', '', '', '', '', '', '', '', '', '', '', '', '', '', '', '', '', '', '', '', '', '', '', '', '', '', '', '', '', '', '', '', '', '', '', '', '', '', '', '', '', '', '', '', '', '', '', '', '', '', '', '', '', '', '', '', '', '', '', '', '', '', '', '', '', '', '', '', '', '', '', '', '', '', '', '', '', '', '', '', '', '', '', '', '', '', '', '', '', '', '', '', '', '', '', '', '', '', '', '', '', '', '', '', '', '', '', '', '', '', '', '', '', '', '', '', '', '', '', '', '', '', '', '', '', '']\n",
      "bzero:\n",
      "    ['', '', '', '', '', '', '', '', '', '', '', '', '', '', '', '', '', '', '', '', '', '', '', '', '', '', '', '', '', '', '', '', '', '', '', '', '', '', '', '', '', '', '', '', '', '', '', '', '', '', '', '', '', '', '', '', '', '', '', '', '', '', '', '', '', '', '', '', '', '', '', '', '', '', '', '', '', '', '', '', '', '', '', '', '', '', '', '', '', '', '', '', '', '', '', '', '', '', '', '', '', '', '', '', '', '', '', '', '', '', '', '', '', '', '', '', '', '', '', '', '', '', '', '', '', '', '', '', '', '', '', '', '', '', '', '', '', '', '', '', '', '', '', '', '', '', '', '', '', '', '', '', '', '', '', '', '', '', '', '', '', '', '', '', '', '', '', '', '', '', '', '', '', '', '', '']\n",
      "disp:\n",
      "    ['', '', '', '', '', '', '', '', '', '', '', '', '', '', '', '', '', '', '', '', '', '', '', '', '', '', '', '', '', '', '', '', '', '', '', '', '', '', '', '', '', '', '', '', '', '', '', '', '', '', '', '', '', '', '', '', '', '', '', '', '', '', '', '', '', '', '', '', '', '', '', '', '', '', '', '', '', '', '', '', '', '', '', '', '', '', '', '', '', '', '', '', '', '', '', '', '', '', '', '', '', '', '', '', '', '', '', '', '', '', '', '', '', '', '', '', '', '', '', '', '', '', '', '', '', '', '', '', '', '', '', '', '', '', '', '', '', '', '', '', '', '', '', '', '', '', '', '', '', '', '', '', '', '', '', '', '', '', '', '', '', '', '', '', '', '', '', '', '', '', '', '', '', '', '', '']\n",
      "start:\n",
      "    ['', '', '', '', '', '', '', '', '', '', '', '', '', '', '', '', '', '', '', '', '', '', '', '', '', '', '', '', '', '', '', '', '', '', '', '', '', '', '', '', '', '', '', '', '', '', '', '', '', '', '', '', '', '', '', '', '', '', '', '', '', '', '', '', '', '', '', '', '', '', '', '', '', '', '', '', '', '', '', '', '', '', '', '', '', '', '', '', '', '', '', '', '', '', '', '', '', '', '', '', '', '', '', '', '', '', '', '', '', '', '', '', '', '', '', '', '', '', '', '', '', '', '', '', '', '', '', '', '', '', '', '', '', '', '', '', '', '', '', '', '', '', '', '', '', '', '', '', '', '', '', '', '', '', '', '', '', '', '', '', '', '', '', '', '', '', '', '', '', '', '', '', '', '', '', '']\n",
      "dim:\n",
      "    ['(1)', '(1)', '(1)', '(1)', '(1)', '(1)', '(1)', '(1)', '(1)', '(1)', '(1)', '(1)', '(1)', '(1)', '(1)', '(1)', '(1)', '(1)', '(1)', '(1)', '(1)', '(1)', '(1)', '(1)', '(1)', '(1)', '(1)', '(1)', '(1)', '(1)', '(1)', '(1)', '(1)', '(1)', '(1)', '(1)', '(1)', '(1)', '(1)', '(1)', '(1)', '(1)', '(1)', '(1)', '(1)', '(1)', '(1)', '(1)', '(1)', '(1)', '(1)', '(1)', '(1)', '(1)', '(1)', '(1)', '(1)', '(1)', '(1)', '(1)', '(1)', '(1)', '(1)', '(1)', '(1)', '(1)', '(1)', '(1)', '(1)', '(1)', '(1)', '(1)', '(1)', '(1)', '(1)', '(1)', '(1)', '(1)', '(1)', '(1)', '(1)', '(1)', '(1)', '(1)', '(1)', '(1)', '(1)', '(1)', '(1)', '(1)', '(1)', '(1)', '(1)', '(1)', '(1)', '(1)', '(1)', '(1)', '(1)', '(1)', '(1)', '(1)', '(1)', '(1)', '(1)', '(1)', '(1)', '(1)', '(1)', '(1)', '(1)', '(1)', '(1)', '(1)', '(1)', '(1)', '(1)', '(1)', '(1)', '(1)', '(1)', '(1)', '(1)', '(1)', '(1)', '(1)', '(1)', '(1)', '(1)', '(1)', '(1)', '(1)', '(1)', '(1)', '(1)', '(1)', '(1)', '(1)', '(1)', '(1)', '(1)', '(1)', '(1)', '(1)', '(1)', '(1)', '(1)', '(1)', '(1)', '(1)', '(1)', '(1)', '(1)', '(1)', '(1)', '(1)', '(1)', '(1)', '(1)', '(1)', '(1)', '(1)', '(1)', '(1)', '(1)', '(1)', '(1)', '(1)', '(1)', '(1)', '(1)', '(1)', '(1)', '(1)', '(1)', '(1)']\n"
     ]
    }
   ],
   "source": [
    "cols.info()"
   ]
  },
  {
   "cell_type": "code",
   "execution_count": 38,
   "metadata": {
    "collapsed": false
   },
   "outputs": [
    {
     "name": "stdout",
     "output_type": "stream",
     "text": [
      "(sourceid, >i8)\n",
      "(cueventid, >i4)\n",
      "(framesetid, >i8)\n",
      "(ra, >f8)\n",
      "(dec, >f8)\n",
      "(sigra, >f4)\n",
      "(sigdec, >f4)\n",
      "(epoch, >f8)\n",
      "(mura, >f4)\n",
      "(mudec, >f4)\n",
      "(sigmura, >f4)\n",
      "(sigmudec, >f4)\n",
      "(chi2, >f4)\n",
      "(nframes, >i2)\n",
      "(cx, >f8)\n",
      "(cy, >f8)\n",
      "(cz, >f8)\n",
      "(htmid, >i8)\n",
      "(l, >f8)\n",
      "(b, >f8)\n",
      "(lambda, >f8)\n",
      "(eta, >f8)\n",
      "(priorsec, >i8)\n",
      "(ymj_1pnt, >f4)\n",
      "(ymj_1pnterr, >f4)\n",
      "(j_1mhpnt, >f4)\n",
      "(j_1mhpnterr, >f4)\n",
      "(hmkpnt, >f4)\n",
      "(hmkpnterr, >f4)\n",
      "(ymj_1ext, >f4)\n",
      "(ymj_1exterr, >f4)\n",
      "(j_1mhext, >f4)\n",
      "(j_1mhexterr, >f4)\n",
      "(hmkext, >f4)\n",
      "(hmkexterr, >f4)\n",
      "(mergedclassstat, >f4)\n",
      "(mergedclass, >i2)\n",
      "(pstar, >f4)\n",
      "(pgalaxy, >f4)\n",
      "(pnoise, >f4)\n",
      "(psaturated, >f4)\n",
      "(ebv, >f4)\n",
      "(ay, >f4)\n",
      "(aj, >f4)\n",
      "(ah, >f4)\n",
      "(ak, >f4)\n",
      "(yhallmag, >f4)\n",
      "(yhallmagerr, >f4)\n",
      "(ypetromag, >f4)\n",
      "(ypetromagerr, >f4)\n",
      "(ypsfmag, >f4)\n",
      "(ypsfmagerr, >f4)\n",
      "(ysermag2d, >f4)\n",
      "(ysermag2derr, >f4)\n",
      "(yapermag3, >f4)\n",
      "(yapermag3err, >f4)\n",
      "(yapermag4, >f4)\n",
      "(yapermag4err, >f4)\n",
      "(yapermag6, >f4)\n",
      "(yapermag6err, >f4)\n",
      "(ygausig, >f4)\n",
      "(yell, >f4)\n",
      "(ypa, >f4)\n",
      "(yerrbits, >i4)\n",
      "(ydeblend, >i4)\n",
      "(yclass, >i2)\n",
      "(yclassstat, >f4)\n",
      "(ypperrbits, >i4)\n",
      "(yseqnum, >i4)\n",
      "(yobjid, >i8)\n",
      "(yxi, >f4)\n",
      "(yeta, >f4)\n",
      "(j_1hallmag, >f4)\n",
      "(j_1hallmagerr, >f4)\n",
      "(j_1petromag, >f4)\n",
      "(j_1petromagerr, >f4)\n",
      "(j_1psfmag, >f4)\n",
      "(j_1psfmagerr, >f4)\n",
      "(j_1sermag2d, >f4)\n",
      "(j_1sermag2derr, >f4)\n",
      "(j_1apermag3, >f4)\n",
      "(j_1apermag3err, >f4)\n",
      "(j_1apermag4, >f4)\n",
      "(j_1apermag4err, >f4)\n",
      "(j_1apermag6, >f4)\n",
      "(j_1apermag6err, >f4)\n",
      "(j_1gausig, >f4)\n",
      "(j_1ell, >f4)\n",
      "(j_1pa, >f4)\n",
      "(j_1errbits, >i4)\n",
      "(j_1deblend, >i4)\n",
      "(j_1class, >i2)\n",
      "(j_1classstat, >f4)\n",
      "(j_1pperrbits, >i4)\n",
      "(j_1seqnum, >i4)\n",
      "(j_1objid, >i8)\n",
      "(j_1xi, >f4)\n",
      "(j_1eta, >f4)\n",
      "(j_2hallmag, >f4)\n",
      "(j_2hallmagerr, >f4)\n",
      "(j_2petromag, >f4)\n",
      "(j_2petromagerr, >f4)\n",
      "(j_2psfmag, >f4)\n",
      "(j_2psfmagerr, >f4)\n",
      "(j_2sermag2d, >f4)\n",
      "(j_2sermag2derr, >f4)\n",
      "(j_2apermag3, >f4)\n",
      "(j_2apermag3err, >f4)\n",
      "(j_2apermag4, >f4)\n",
      "(j_2apermag4err, >f4)\n",
      "(j_2apermag6, >f4)\n",
      "(j_2apermag6err, >f4)\n",
      "(j_2gausig, >f4)\n",
      "(j_2ell, >f4)\n",
      "(j_2pa, >f4)\n",
      "(j_2errbits, >i4)\n",
      "(j_2deblend, >i4)\n",
      "(j_2class, >i2)\n",
      "(j_2classstat, >f4)\n",
      "(j_2pperrbits, >i4)\n",
      "(j_2seqnum, >i4)\n",
      "(j_2objid, >i8)\n",
      "(j_2xi, >f4)\n",
      "(j_2eta, >f4)\n",
      "(hhallmag, >f4)\n",
      "(hhallmagerr, >f4)\n",
      "(hpetromag, >f4)\n",
      "(hpetromagerr, >f4)\n",
      "(hpsfmag, >f4)\n",
      "(hpsfmagerr, >f4)\n",
      "(hsermag2d, >f4)\n",
      "(hsermag2derr, >f4)\n",
      "(hapermag3, >f4)\n",
      "(hapermag3err, >f4)\n",
      "(hapermag4, >f4)\n",
      "(hapermag4err, >f4)\n",
      "(hapermag6, >f4)\n",
      "(hapermag6err, >f4)\n",
      "(hgausig, >f4)\n",
      "(hell, >f4)\n",
      "(hpa, >f4)\n",
      "(herrbits, >i4)\n",
      "(hdeblend, >i4)\n",
      "(hclass, >i2)\n",
      "(hclassstat, >f4)\n",
      "(hpperrbits, >i4)\n",
      "(hseqnum, >i4)\n",
      "(hobjid, >i8)\n",
      "(hxi, >f4)\n",
      "(heta, >f4)\n",
      "(khallmag, >f4)\n",
      "(khallmagerr, >f4)\n",
      "(kpetromag, >f4)\n",
      "(kpetromagerr, >f4)\n",
      "(kpsfmag, >f4)\n",
      "(kpsfmagerr, >f4)\n",
      "(ksermag2d, >f4)\n",
      "(ksermag2derr, >f4)\n",
      "(kapermag3, >f4)\n",
      "(kapermag3err, >f4)\n",
      "(kapermag4, >f4)\n",
      "(kapermag4err, >f4)\n",
      "(kapermag6, >f4)\n",
      "(kapermag6err, >f4)\n",
      "(kgausig, >f4)\n",
      "(kell, >f4)\n",
      "(kpa, >f4)\n",
      "(kerrbits, >i4)\n",
      "(kdeblend, >i4)\n",
      "(kclass, >i2)\n",
      "(kclassstat, >f4)\n",
      "(kpperrbits, >i4)\n",
      "(kseqnum, >i4)\n",
      "(kobjid, >i8)\n",
      "(kxi, >f4)\n",
      "(keta, >f4)\n"
     ]
    }
   ],
   "source": [
    "for column in ukidss_fits.dtype.names:\n",
    "    print \"(%s, %s)\" % (column.lower(), ukidss_fits[column].dtype)"
   ]
  },
  {
   "cell_type": "markdown",
   "metadata": {},
   "source": [
    "*Contents of my YAML file:*"
   ]
  },
  {
   "cell_type": "code",
   "execution_count": 39,
   "metadata": {
    "collapsed": false
   },
   "outputs": [
    {
     "name": "stdout",
     "output_type": "stream",
     "text": [
      "filters: {complevel: 5, complib: blosc}\r\n",
      "schema:\r\n",
      "  common:\r\n",
      "    primary_key: lsdsourceid\r\n",
      "    spatial_keys: [ra, dec]\r\n",
      "    columns:\r\n",
      "    - [lsdsourceid, u8]\r\n",
      "    - [sourceid, i8]\r\n",
      "    - [ra, f8]\r\n",
      "    - [dec, f8]\r\n",
      "    - [sigra, f4]\r\n",
      "    - [sigdec, f4]\r\n",
      "    - [epoch, f8]\r\n",
      "    - [l, f8]\r\n",
      "    - [b, f8]\r\n",
      "    - [yapermag3, f4] #Default point/extended source Y aperture corrected mag (2 arcsec aperture diameter). If in doubt use this\r\n",
      "    - [yapermag3err, f4]\r\n",
      "    - [j_1apermag3, f4]\r\n",
      "    - [j_1apermag3err, f4]\r\n",
      "    - [j_2apermag3, f4]\r\n",
      "    - [j_2apermag3err, f4]\r\n",
      "    - [hapermag3, f4]\r\n",
      "    - [hapermag3err, f4]\r\n",
      "    - [kapermag3, f4]\r\n",
      "    - [kapermag3err, f4]\r\n",
      "    - [ebv, f4]\r\n",
      "    - [ay, f4] #Galactic extinction correction in y\r\n",
      "    - [aj, f4]\r\n",
      "    - [ah, f4]\r\n",
      "    - [ak, f4]\r\n",
      "    - [mergedclass, i2] #Bayesian object classification merged from multiple observations\r\n",
      "\r\n",
      "  astrometry:\r\n",
      "    columns:\r\n",
      "    - [mura, f4]\r\n",
      "    - [mudec, f4]\r\n",
      "    - [sigmura, f4]\r\n",
      "    - [sigmudec, f4]\r\n",
      "    - [chi2, f4]\r\n",
      "    - [nframes, i2]\r\n",
      "    - [cx, f8]\r\n",
      "    - [cy, f8]\r\n",
      "    - [cz, f8]\r\n",
      "    - [htmid, i8]\r\n",
      "    - [yxi, f4] #Offset of Y detection from master position (+east/-west)\r\n",
      "    - [yeta, f4]\r\n",
      "    - [j_1xi, f4]\r\n",
      "    - [j_1eta, f4]\r\n",
      "    - [j_2xi, f4]\r\n",
      "    - [j_2eta, f4]\r\n",
      "    - [hxi, f4]\r\n",
      "    - [heta, f4]\r\n",
      "    - [kxi, f4]\r\n",
      "    - [keta, f4]\r\n",
      "\r\n",
      "  photoextra:\r\n",
      "    columns:\r\n",
      "    - [yhallmag, f4] #Total point source Y mag\r\n",
      "    - [yhallmagerr, f4]\r\n",
      "    - [ypetromag, f4] #Extended source Y mag (Petrosian)\r\n",
      "    - [ypetromagerr, f4]\r\n",
      "    - [ypsfmag, f4] #Point source profile-fitted Y mag\r\n",
      "    - [ypsfmagerr, f4]\r\n",
      "    - [ysermag2d, f4] #Extended source Y mag (profile-fitted)\r\n",
      "    - [ysermag2derr, f4]\r\n",
      "    - [yapermag4, f4] #Extended source Y aperture corrected mag (2.8 arcsec aperture diameter)\r\n",
      "    - [yapermag4err, f4]\r\n",
      "    - [yapermag6, f4] #Extended source Y aperture corrected mag (5.7 arcsec aperture diameter)\r\n",
      "    - [yapermag6err, f4]\r\n",
      "    - [ygausig, f4] #RMS of axes of ellipse fit in Y\r\n",
      "    - [yell, f4] #1-b/a, where a/b=semi-major/minor axes in Y\r\n",
      "    - [ypa, f4] #ellipse fit celestial orientation in Y\r\n",
      "    - [yerrbits, i4] #count of the number of zero confidence pixels in the default (2 arcsec diameter) aperture\r\n",
      "    - [ydeblend, i4] #placeholder flag indicating parent/child relation in Y\r\n",
      "    - [yclass, i2] #discrete image classification flag in Y\r\n",
      "    - [yclassstat, f4] #N(0,1) stellarness-of-profile statistic in Y\r\n",
      "    - [ypperrbits, i4] #Post-processing error quality bit flags\r\n",
      "    - [j_1hallmag, f4]\r\n",
      "    - [j_1hallmagerr, f4]\r\n",
      "    - [j_1petromag, f4]\r\n",
      "    - [j_1petromagerr, f4]\r\n",
      "    - [j_1psfmag, f4]\r\n",
      "    - [j_1psfmagerr, f4]\r\n",
      "    - [j_1sermag2d, f4]\r\n",
      "    - [j_1sermag2derr, f4]\r\n",
      "    - [j_1apermag4, f4]\r\n",
      "    - [j_1apermag4err, f4]\r\n",
      "    - [j_1apermag6, f4]\r\n",
      "    - [j_1apermag6err, f4]\r\n",
      "    - [j_1gausig, f4]\r\n",
      "    - [j_1ell, f4]\r\n",
      "    - [j_1pa, f4]\r\n",
      "    - [j_1errbits, i4]\r\n",
      "    - [j_1deblend, i4]\r\n",
      "    - [j_1class, i2]\r\n",
      "    - [j_1classstat, f4]\r\n",
      "    - [j_1pperrbits, i4]\r\n",
      "    - [j_2hallmag, f4]\r\n",
      "    - [j_2hallmagerr, f4]\r\n",
      "    - [j_2petromag, f4]\r\n",
      "    - [j_2petromagerr, f4]\r\n",
      "    - [j_2psfmag, f4]\r\n",
      "    - [j_2psfmagerr, f4]\r\n",
      "    - [j_2sermag2d, f4]\r\n",
      "    - [j_2sermag2derr, f4]\r\n",
      "    - [j_2apermag4, f4]\r\n",
      "    - [j_2apermag4err, f4]\r\n",
      "    - [j_2apermag6, f4]\r\n",
      "    - [j_2apermag6err, f4]\r\n",
      "    - [j_2gausig, f4]\r\n",
      "    - [j_2ell, f4]\r\n",
      "    - [j_2pa, f4]\r\n",
      "    - [j_2errbits, i4]\r\n",
      "    - [j_2deblend, i4]\r\n",
      "    - [j_2class, i2]\r\n",
      "    - [j_2classstat, f4]\r\n",
      "    - [j_2pperrbits, i4]\r\n",
      "    - [hhallmag, f4]\r\n",
      "    - [hhallmagerr, f4]\r\n",
      "    - [hpetromag, f4]\r\n",
      "    - [hpetromagerr, f4]\r\n",
      "    - [hpsfmag, f4]\r\n",
      "    - [hpsfmagerr, f4]\r\n",
      "    - [hsermag2d, f4]\r\n",
      "    - [hsermag2derr, f4]\r\n",
      "    - [hapermag4, f4]\r\n",
      "    - [hapermag4err, f4]\r\n",
      "    - [hapermag6, f4]\r\n",
      "    - [hapermag6err, f4]\r\n",
      "    - [hgausig, f4]\r\n",
      "    - [hell, f4]\r\n",
      "    - [hpa, f4]\r\n",
      "    - [herrbits, i4]\r\n",
      "    - [hdeblend, i4]\r\n",
      "    - [hclass, i2]\r\n",
      "    - [hclassstat, f4]\r\n",
      "    - [hpperrbits, i4]\r\n",
      "    - [khallmag, f4]\r\n",
      "    - [khallmagerr, f4]\r\n",
      "    - [kpetromag, f4]\r\n",
      "    - [kpetromagerr, f4]\r\n",
      "    - [kpsfmag, f4]\r\n",
      "    - [kpsfmagerr, f4]\r\n",
      "    - [ksermag2d, f4]\r\n",
      "    - [ksermag2derr, f4]\r\n",
      "    - [kapermag4, f4]\r\n",
      "    - [kapermag4err, f4]\r\n",
      "    - [kapermag6, f4]\r\n",
      "    - [kapermag6err, f4]\r\n",
      "    - [kgausig, f4]\r\n",
      "    - [kell, f4]\r\n",
      "    - [kpa, f4]\r\n",
      "    - [kerrbits, i4]\r\n",
      "    - [kdeblend, i4]\r\n",
      "    - [kclass, i2]\r\n",
      "    - [kclassstat, f4]\r\n",
      "    - [kpperrbits, i4]\r\n",
      "    - [eta, f8] #1-b/a, where a/b=semi-major/minor axes (SE: THETA_IMAGE) {catalogue TType keyword: Ellipticity}\r\n",
      "    - [ymj_1pnt, f4] #Default colour Y-J (using appropriate mags)\r\n",
      "    - [ymj_1pnterr, f4]\r\n",
      "    - [j_1mhpnt, f4]\r\n",
      "    - [j_1mhpnterr, f4]\r\n",
      "    - [hmkpnt, f4]\r\n",
      "    - [hmkpnterr, f4]\r\n",
      "    - [ymj_1ext, f4] #Extended color\r\n",
      "    - [ymj_1exterr, f4]\r\n",
      "    - [j_1mhext, f4]\r\n",
      "    - [j_1mhexterr, f4]\r\n",
      "    - [hmkext, f4]\r\n",
      "    - [hmkexterr, f4]\r\n",
      "\r\n",
      "  survey:\r\n",
      "    columns:\r\n",
      "    - [priorsec, i8]\r\n",
      "    - [yseqnum, i4] #the running number of the Y detection\r\n",
      "    - [yobjid, i8] #DEPRECATED (do not use)\r\n",
      "    - [j_1seqnum, i4]\r\n",
      "    - [j_1objid, i8]\r\n",
      "    - [j_2seqnum, i4]\r\n",
      "    - [j_2objid, i8]\r\n",
      "    - [hseqnum, i4]\r\n",
      "    - [hobjid, i8]\r\n",
      "    - [kseqnum, i4]\r\n",
      "    - [kobjid, i8]\r\n",
      "    - [mergedclassstat, f4] #Object classification\r\n",
      "    - [pstar, f4]\r\n",
      "    - [pgalaxy, f4]\r\n",
      "    - [pnoise, f4]\r\n",
      "    - [psaturated, f4]\r\n",
      "    - [cueventid, i4]\r\n",
      "    - [framesetid, i8]\r\n",
      "#    - [lambda, f8] #('lambda' is a python keyword) SDSS system spherical coordinate 1 of device centre"
     ]
    }
   ],
   "source": [
    "! cat ukidss.yaml"
   ]
  },
  {
   "cell_type": "markdown",
   "metadata": {},
   "source": [
    "*Create the table:*"
   ]
  },
  {
   "cell_type": "code",
   "execution_count": 40,
   "metadata": {
    "collapsed": false
   },
   "outputs": [
    {
     "name": "stdout",
     "output_type": "stream",
     "text": [
      "Table 'ukidss_las' dropped.\n",
      "\n",
      "-------- committing 20160317192236.744987 [ukidss_las] ---------\n",
      "[ukidss_las] Updating tablet catalog: [256 el.]::::::::::::::::::::>  0.23 sec\n",
      "[ukidss_las] Updating neighbors: Already up to date.\n",
      "[ukidss_las] Updating tablet catalog: [256 el.]::::::::::::::::::::>  0.24 sec\n",
      "[ukidss_las] Updating stats: [0 el.]>  0.00 sec\n",
      "[ukidss_las] Marking tablets read-only...\n",
      "----------- success 20160317192236.744987 [ukidss_las] ---------\n",
      "\n",
      "Table 'ukidss_las' created.\n"
     ]
    }
   ],
   "source": [
    "! lsd-admin create table --drop-existing --schema=ukidss.yaml ukidss_las"
   ]
  },
  {
   "cell_type": "markdown",
   "metadata": {},
   "source": [
    "*Import the table:*"
   ]
  },
  {
   "cell_type": "code",
   "execution_count": 41,
   "metadata": {
    "collapsed": false,
    "scrolled": true
   },
   "outputs": [
    {
     "name": "stdout",
     "output_type": "stream",
     "text": [
      "Importing from 1 pieces:\n",
      "  ===> Imported /astro/users/hvbish/astr597b_wi16/ukidss_las.fits                      [1/1, 100.00%] +     79/79             79 (0/0 min.)\n",
      "done\n",
      "\n",
      "-------- committing 20160317192241.072966 [ukidss_las] ---------\n",
      "[ukidss_las] Updating tablet catalog: [256 el.]::::::::::::::::::::>  0.26 sec\n",
      "[ukidss_las] Updating neighbors: [3 el.]::::::::::::::::::::[0 el.]>  0.26 sec\n",
      "             Total 0 cached objects in 0 cells\n",
      "[ukidss_las] Updating tablet catalog: [256 el.]::::::::::::::::::::>  0.25 sec\n",
      "[ukidss_las] Updating stats: [3 el.]::::::::::::::::::::>  0.02 sec [3 el.]::::::::::::::::::::>  0.06 sec\n",
      "[ukidss_las] Marking tablets read-only...\n",
      "----------- success 20160317192241.072966 [ukidss_las] ---------\n",
      "\n"
     ]
    }
   ],
   "source": [
    "! lsd-import fits ukidss_las /astro/users/hvbish/astr597b_wi16/ukidss_las.fits"
   ]
  },
  {
   "cell_type": "markdown",
   "metadata": {
    "collapsed": true
   },
   "source": [
    "*Success!*"
   ]
  }
 ],
 "metadata": {
  "kernelspec": {
   "display_name": "Python 2",
   "language": "python",
   "name": "python2"
  },
  "language_info": {
   "codemirror_mode": {
    "name": "ipython",
    "version": 2
   },
   "file_extension": ".py",
   "mimetype": "text/x-python",
   "name": "python",
   "nbconvert_exporter": "python",
   "pygments_lexer": "ipython2",
   "version": "2.7.11"
  }
 },
 "nbformat": 4,
 "nbformat_minor": 0
}
